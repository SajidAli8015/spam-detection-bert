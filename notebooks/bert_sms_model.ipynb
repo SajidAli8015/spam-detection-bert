{
 "cells": [
  {
   "cell_type": "markdown",
   "id": "9845aca4",
   "metadata": {},
   "source": [
    "## Fine-Tuning DistilBERT on SMS Spam Dataset\n",
    "\n",
    "This notebook loads a pre-trained DistilBERT model and fine-tunes it on the classic SMS spam dataset (ham/spam). It includes text preprocessing, tokenization, training with Hugging Face Trainer, evaluation, and saving the final model.\n"
   ]
  },
  {
   "cell_type": "markdown",
   "id": "827c0825",
   "metadata": {},
   "source": [
    "## 📦 1. Imports and Setup"
   ]
  },
  {
   "cell_type": "code",
   "execution_count": null,
   "id": "800248ee",
   "metadata": {},
   "outputs": [
    {
     "name": "stderr",
     "output_type": "stream",
     "text": [
      "d:\\Sajid\\email-spam-detection\\venv\\lib\\site-packages\\tqdm\\auto.py:21: TqdmWarning: IProgress not found. Please update jupyter and ipywidgets. See https://ipywidgets.readthedocs.io/en/stable/user_install.html\n",
      "  from .autonotebook import tqdm as notebook_tqdm\n"
     ]
    }
   ],
   "source": [
    "import pandas as pd\n",
    "import numpy as np\n",
    "import torch\n",
    "from torch.utils.data import Dataset\n",
    "from transformers import (\n",
    "    DistilBertTokenizerFast,\n",
    "    DistilBertForSequenceClassification,\n",
    "    TrainingArguments,\n",
    "    Trainer,\n",
    "    PreTrainedModel,\n",
    "    PreTrainedTokenizer\n",
    ")\n",
    "from sklearn.model_selection import train_test_split\n",
    "from sklearn.metrics import accuracy_score, precision_recall_fscore_support, classification_report\n",
    "import os\n",
    "from datetime import datetime\n",
    "\n",
    "# Force usage of CPU\n",
    "device = torch.device(\"cpu\")"
   ]
  },
  {
   "cell_type": "markdown",
   "id": "c8525b25",
   "metadata": {},
   "source": [
    "## 📂 2. Load SMS Spam Dataset"
   ]
  },
  {
   "cell_type": "code",
   "execution_count": 2,
   "id": "6528dde4",
   "metadata": {},
   "outputs": [
    {
     "data": {
      "text/html": [
       "<div>\n",
       "<style scoped>\n",
       "    .dataframe tbody tr th:only-of-type {\n",
       "        vertical-align: middle;\n",
       "    }\n",
       "\n",
       "    .dataframe tbody tr th {\n",
       "        vertical-align: top;\n",
       "    }\n",
       "\n",
       "    .dataframe thead th {\n",
       "        text-align: right;\n",
       "    }\n",
       "</style>\n",
       "<table border=\"1\" class=\"dataframe\">\n",
       "  <thead>\n",
       "    <tr style=\"text-align: right;\">\n",
       "      <th></th>\n",
       "      <th>label</th>\n",
       "      <th>text</th>\n",
       "    </tr>\n",
       "  </thead>\n",
       "  <tbody>\n",
       "    <tr>\n",
       "      <th>0</th>\n",
       "      <td>ham</td>\n",
       "      <td>Go until jurong point, crazy.. Available only ...</td>\n",
       "    </tr>\n",
       "    <tr>\n",
       "      <th>1</th>\n",
       "      <td>ham</td>\n",
       "      <td>Ok lar... Joking wif u oni...</td>\n",
       "    </tr>\n",
       "    <tr>\n",
       "      <th>2</th>\n",
       "      <td>spam</td>\n",
       "      <td>Free entry in 2 a wkly comp to win FA Cup fina...</td>\n",
       "    </tr>\n",
       "    <tr>\n",
       "      <th>3</th>\n",
       "      <td>ham</td>\n",
       "      <td>U dun say so early hor... U c already then say...</td>\n",
       "    </tr>\n",
       "    <tr>\n",
       "      <th>4</th>\n",
       "      <td>ham</td>\n",
       "      <td>Nah I don't think he goes to usf, he lives aro...</td>\n",
       "    </tr>\n",
       "  </tbody>\n",
       "</table>\n",
       "</div>"
      ],
      "text/plain": [
       "  label                                               text\n",
       "0   ham  Go until jurong point, crazy.. Available only ...\n",
       "1   ham                      Ok lar... Joking wif u oni...\n",
       "2  spam  Free entry in 2 a wkly comp to win FA Cup fina...\n",
       "3   ham  U dun say so early hor... U c already then say...\n",
       "4   ham  Nah I don't think he goes to usf, he lives aro..."
      ]
     },
     "execution_count": 2,
     "metadata": {},
     "output_type": "execute_result"
    }
   ],
   "source": [
    "df = pd.read_csv('D:\\Sajid\\email-spam-detection/data/spam.csv', encoding='latin-1')\n",
    "\n",
    "\n",
    "df = df[['v1', 'v2']]\n",
    "df.columns = ['label', 'text']\n",
    "\n",
    "# Check again\n",
    "df.head()"
   ]
  },
  {
   "cell_type": "markdown",
   "id": "bce4a4aa",
   "metadata": {},
   "source": [
    "## 📂 3. Basic cleaning of the dataset"
   ]
  },
  {
   "cell_type": "code",
   "execution_count": 3,
   "id": "1e1da208",
   "metadata": {},
   "outputs": [
    {
     "name": "stdout",
     "output_type": "stream",
     "text": [
      "\n",
      "Missing values:\n",
      "\n",
      "label    0\n",
      "text     0\n",
      "dtype: int64 \n",
      "\n",
      "Shape Raw data: (5572, 2)\n",
      "\n",
      "Number of duplicate rows: 403\n",
      "Shape after removing duplicates: (5169, 2)\n"
     ]
    }
   ],
   "source": [
    "# Check for missing values\n",
    "print(\"\\nMissing values:\\n\")\n",
    "print(df.isnull().sum(),'\\n')\n",
    "\n",
    "\n",
    "print(f\"Shape Raw data: {df.shape}\")\n",
    "\n",
    "\n",
    "\n",
    "# Check for duplicate rows\n",
    "duplicate_count = df.duplicated().sum()\n",
    "print(f\"\\nNumber of duplicate rows: {duplicate_count}\")\n",
    "\n",
    "# If duplicates exist, drop them\n",
    "df = df.drop_duplicates()\n",
    "\n",
    "\n",
    "print(f\"Shape after removing duplicates: {df.shape}\")\n"
   ]
  },
  {
   "cell_type": "code",
   "execution_count": 4,
   "id": "729c336c",
   "metadata": {},
   "outputs": [
    {
     "data": {
      "text/plain": [
       "label\n",
       "0    4516\n",
       "1     653\n",
       "Name: count, dtype: int64"
      ]
     },
     "execution_count": 4,
     "metadata": {},
     "output_type": "execute_result"
    }
   ],
   "source": [
    "# Encode the labels: spam = 1, ham = 0\n",
    "df['label'] = df['label'].map({'ham': 0, 'spam': 1})\n",
    "\n",
    "# Check distribution\n",
    "df['label'].value_counts()\n"
   ]
  },
  {
   "cell_type": "markdown",
   "id": "e7d8c661",
   "metadata": {},
   "source": [
    "## 🧪 3. Train-Test Split"
   ]
  },
  {
   "cell_type": "code",
   "execution_count": 8,
   "id": "413c9216",
   "metadata": {},
   "outputs": [],
   "source": [
    "train_texts, val_texts, train_labels, val_labels = train_test_split(\n",
    "    df['text'].tolist(),\n",
    "    df['label'].tolist(),\n",
    "    test_size=0.2,\n",
    "    random_state=42,\n",
    "    stratify=df['label']  # Keeps class proportions same in both sets\n",
    ")"
   ]
  },
  {
   "cell_type": "markdown",
   "id": "55bee98e",
   "metadata": {},
   "source": [
    "## 🔠 4. Tokenization using DistilBERT Tokenizer both traing / validation dataset"
   ]
  },
  {
   "cell_type": "code",
   "execution_count": null,
   "id": "8c24ec6e",
   "metadata": {},
   "outputs": [],
   "source": [
    "# Load tokenizer\n",
    "tokenizer = DistilBertTokenizerFast.from_pretrained('distilbert-base-uncased')\n",
    "\n",
    "\n",
    "\n",
    "# Tokenize the train and validation texts\n",
    "train_encodings = tokenizer(\n",
    "    train_texts,\n",
    "    truncation=True,\n",
    "    padding=True,\n",
    "    return_tensors='pt'\n",
    ")\n",
    "\n",
    "val_encodings = tokenizer(\n",
    "    val_texts,\n",
    "    truncation=True,\n",
    "    padding=True,\n",
    "    return_tensors='pt'\n",
    ")"
   ]
  },
  {
   "cell_type": "markdown",
   "id": "724a101d",
   "metadata": {},
   "source": [
    "## 📦 5. Create PyTorch Dataset Wrapper"
   ]
  },
  {
   "cell_type": "code",
   "execution_count": null,
   "id": "f62f8e25",
   "metadata": {},
   "outputs": [],
   "source": [
    "# Custom dataset class to handle our tokenized data\n",
    "class SMSDataset(Dataset):\n",
    "    def __init__(self, encodings, labels):\n",
    "        self.encodings = encodings\n",
    "        self.labels = labels\n",
    "    \n",
    "    def __getitem__(self, idx):\n",
    "        item = {key: val[idx] for key, val in self.encodings.items()}\n",
    "        item['labels'] = torch.tensor(self.labels[idx])\n",
    "        return item\n",
    "\n",
    "    def __len__(self):\n",
    "        return len(self.labels)\n",
    "\n",
    "\n",
    "\n",
    "# Instantiate datasets\n",
    "train_dataset = SMSDataset(train_encodings, train_labels)\n",
    "val_dataset = SMSDataset(val_encodings, val_labels)"
   ]
  },
  {
   "cell_type": "markdown",
   "id": "4ebeaddb",
   "metadata": {},
   "source": [
    "## 🧠 6. Load Pre-trained DistilBERT Model"
   ]
  },
  {
   "cell_type": "code",
   "execution_count": 12,
   "id": "adcce447",
   "metadata": {},
   "outputs": [
    {
     "name": "stderr",
     "output_type": "stream",
     "text": [
      "Some weights of DistilBertForSequenceClassification were not initialized from the model checkpoint at distilbert-base-uncased and are newly initialized: ['classifier.bias', 'classifier.weight', 'pre_classifier.bias', 'pre_classifier.weight']\n",
      "You should probably TRAIN this model on a down-stream task to be able to use it for predictions and inference.\n"
     ]
    }
   ],
   "source": [
    "# DistilBertForSequenceClassification -->   special version of DistilBERT from Hugging Face's transformers library that is customized for sequence classification tasks\n",
    "\n",
    "# Load DistilBERT for binary classification (num_labels=2)\n",
    "model = DistilBertForSequenceClassification.from_pretrained(\n",
    "    'distilbert-base-uncased',\n",
    "    num_labels=2\n",
    ")\n",
    "\n",
    "\n"
   ]
  },
  {
   "cell_type": "markdown",
   "id": "3dc3cc30",
   "metadata": {},
   "source": [
    "## ⚙️ 7. Set TrainingArguments"
   ]
  },
  {
   "cell_type": "code",
   "execution_count": null,
   "id": "6a1a1237",
   "metadata": {},
   "outputs": [],
   "source": [
    "# Define training arguments for the Trainer API\n",
    "\n",
    "training_args = TrainingArguments(\n",
    "    #output_dir=\"./results\",              # Where to save model checkpoints\n",
    "    num_train_epochs=3,                  # Number of training epochs\n",
    "    per_device_train_batch_size=16,      # Batch size for training\n",
    "    per_device_eval_batch_size=16,       # Batch size for evaluation\n",
    "    eval_strategy=\"epoch\",         # Evaluate model at end of each epoch\n",
    "    save_strategy=\"epoch\",               # Save model at end of each epoch\n",
    "    logging_dir=\"./logs\",                # Log directory for TensorBoard\n",
    "    logging_steps=10,                    # Log every 10 steps\n",
    "    load_best_model_at_end=True,         # Automatically load best model\n",
    "    metric_for_best_model=\"f1\",    # Metric to decide best model\n",
    "    save_total_limit=1                   # Only keep latest best checkpoint\n",
    ")\n"
   ]
  },
  {
   "cell_type": "markdown",
   "id": "74f1dbfc",
   "metadata": {},
   "source": [
    "## 📏 8. Define Metrics Function"
   ]
  },
  {
   "cell_type": "code",
   "execution_count": null,
   "id": "6dba78a5",
   "metadata": {},
   "outputs": [],
   "source": [
    "# Function to compute accuracy, precision, recall, and F1 score\n",
    "\n",
    "def compute_metrics(pred):\n",
    "    labels = pred.label_ids\n",
    "    preds = pred.predictions.argmax(-1)\n",
    "    precision, recall, f1, _ = precision_recall_fscore_support(labels, preds, average='binary')\n",
    "    #precision, recall, f1, support = precision_recall_fscore_support(labels, preds, average=None, labels=[0, 1])\n",
    "\n",
    "    acc = accuracy_score(labels, preds)\n",
    "    return {\n",
    "        'accuracy': acc,\n",
    "        'f1': f1,\n",
    "        'precision': precision,\n",
    "        'recall': recall\n",
    "    }"
   ]
  },
  {
   "cell_type": "markdown",
   "id": "88f88078",
   "metadata": {},
   "source": [
    "## 🚂 9. Train the Model"
   ]
  },
  {
   "cell_type": "code",
   "execution_count": null,
   "id": "f0d3748b",
   "metadata": {},
   "outputs": [],
   "source": [
    "# Initialize HuggingFace Trainer\n",
    "\n",
    "trainer = Trainer(\n",
    "    model=model,\n",
    "    args=training_args,\n",
    "    train_dataset=train_dataset,\n",
    "    eval_dataset=val_dataset,\n",
    "    compute_metrics=compute_metrics\n",
    ")\n",
    "\n",
    "\n",
    "#Train Model\n",
    "trainer.train()"
   ]
  },
  {
   "cell_type": "markdown",
   "id": "712d16d2",
   "metadata": {},
   "source": [
    "##  10. Evaluate the Model"
   ]
  },
  {
   "cell_type": "code",
   "execution_count": null,
   "id": "b9d15af5",
   "metadata": {},
   "outputs": [
    {
     "name": "stderr",
     "output_type": "stream",
     "text": [
      "d:\\Sajid\\email-spam-detection\\venv\\lib\\site-packages\\torch\\utils\\data\\dataloader.py:665: UserWarning: 'pin_memory' argument is set as true but no accelerator is found, then device pinned memory won't be used.\n",
      "  warnings.warn(warn_msg)\n"
     ]
    },
    {
     "data": {
      "text/plain": [
       "{'eval_loss': 0.03423997014760971,\n",
       " 'eval_accuracy': 0.9922630560928434,\n",
       " 'eval_f1': 0.9692307692307692,\n",
       " 'eval_precision': 0.9767441860465116,\n",
       " 'eval_recall': 0.9618320610687023,\n",
       " 'eval_runtime': 275.08,\n",
       " 'eval_samples_per_second': 3.759,\n",
       " 'eval_steps_per_second': 0.236,\n",
       " 'epoch': 3.0}"
      ]
     },
     "execution_count": 19,
     "metadata": {},
     "output_type": "execute_result"
    }
   ],
   "source": [
    "# Evaluate model performance\n",
    "trainer.evaluate(val_dataset)"
   ]
  },
  {
   "cell_type": "code",
   "execution_count": null,
   "id": "df246b02",
   "metadata": {},
   "outputs": [
    {
     "name": "stderr",
     "output_type": "stream",
     "text": [
      "d:\\Sajid\\email-spam-detection\\venv\\lib\\site-packages\\torch\\utils\\data\\dataloader.py:665: UserWarning: 'pin_memory' argument is set as true but no accelerator is found, then device pinned memory won't be used.\n",
      "  warnings.warn(warn_msg)\n"
     ]
    },
    {
     "data": {
      "text/html": [],
      "text/plain": [
       "<IPython.core.display.HTML object>"
      ]
     },
     "metadata": {},
     "output_type": "display_data"
    },
    {
     "name": "stdout",
     "output_type": "stream",
     "text": [
      "              precision    recall  f1-score   support\n",
      "\n",
      "         ham       0.99      1.00      1.00       903\n",
      "        spam       0.98      0.96      0.97       131\n",
      "\n",
      "    accuracy                           0.99      1034\n",
      "   macro avg       0.99      0.98      0.98      1034\n",
      "weighted avg       0.99      0.99      0.99      1034\n",
      "\n"
     ]
    }
   ],
   "source": [
    "# Print classification report for detailed class-wise metrics\n",
    "\n",
    "\n",
    "# Get model predictions\n",
    "predictions = trainer.predict(val_dataset)\n",
    "\n",
    "# Extract predicted class labels\n",
    "y_pred = np.argmax(predictions.predictions, axis=1)\n",
    "y_true = predictions.label_ids\n",
    "\n",
    "#  Generate classification report\n",
    "print(classification_report(y_true, y_pred, target_names=['ham', 'spam']))\n"
   ]
  },
  {
   "cell_type": "markdown",
   "id": "3d9352c0",
   "metadata": {},
   "source": [
    "## 💾 11. Save Final Model with Timestamped Folder"
   ]
  },
  {
   "cell_type": "code",
   "execution_count": null,
   "id": "c90f7682",
   "metadata": {},
   "outputs": [],
   "source": [
    "\n",
    "\n",
    "save_path = \"D:/Sajid/email-spam-detection/models/bert-sms-spam\"\n",
    "\n",
    "model.save_pretrained(save_path)\n",
    "tokenizer.save_pretrained(save_path)\n",
    "\n",
    "print(f\"Model and tokenizer saved to: {save_path}\")\n"
   ]
  }
 ],
 "metadata": {
  "kernelspec": {
   "display_name": "Python (email-spam-env)",
   "language": "python",
   "name": "email-spam-env"
  },
  "language_info": {
   "codemirror_mode": {
    "name": "ipython",
    "version": 3
   },
   "file_extension": ".py",
   "mimetype": "text/x-python",
   "name": "python",
   "nbconvert_exporter": "python",
   "pygments_lexer": "ipython3",
   "version": "3.10.0"
  }
 },
 "nbformat": 4,
 "nbformat_minor": 5
}
